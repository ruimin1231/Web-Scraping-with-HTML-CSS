{
 "cells": [
  {
   "cell_type": "code",
   "execution_count": 5,
   "id": "3d783b20",
   "metadata": {
    "scrolled": true
   },
   "outputs": [],
   "source": [
    "import sys\n",
    "#sys.path.append('my/path/to/module/folder')\n",
    "sys.path.append('/Users/ruiminma/.pyenv/versions/3.6.1/lib/python3.6/site-packages')"
   ]
  },
  {
   "cell_type": "code",
   "execution_count": 8,
   "id": "a38812e7",
   "metadata": {},
   "outputs": [],
   "source": [
    "#import Splinter and Beautifulsoup\n",
    "from splinter import Browser\n",
    "from bs4 import BeautifulSoup as soup\n",
    "from webdriver_manager.chrome import ChromeDriverManager"
   ]
  },
  {
   "cell_type": "code",
   "execution_count": 9,
   "id": "6cf2fc86",
   "metadata": {},
   "outputs": [
    {
     "name": "stderr",
     "output_type": "stream",
     "text": [
      "\n",
      "\n",
      "====== WebDriver manager ======\n",
      "Current google-chrome version is 96.0.4664\n",
      "Get LATEST chromedriver version for 96.0.4664 google-chrome\n",
      "Trying to download new driver from https://chromedriver.storage.googleapis.com/96.0.4664.45/chromedriver_mac64.zip\n",
      "Driver has been saved in cache [/Users/ruiminma/.wdm/drivers/chromedriver/mac64/96.0.4664.45]\n"
     ]
    }
   ],
   "source": [
    "#set up Splinter\n",
    "executable_path = {'executable_path':ChromeDriverManager().install()}\n",
    "browser = Browser('chrome',**executable_path, headless=False)\n"
   ]
  },
  {
   "cell_type": "code",
   "execution_count": 11,
   "id": "3cf10f24",
   "metadata": {},
   "outputs": [],
   "source": [
    "#Visit the Quotes to Scrape site\n",
    "url = 'http://quotes.toscrape.com/'\n",
    "browser.visit(url)\n"
   ]
  },
  {
   "cell_type": "code",
   "execution_count": 12,
   "id": "68c7053c",
   "metadata": {},
   "outputs": [],
   "source": [
    "#Parse the HTML\n",
    "html = browser.html\n",
    "html_soup = soup(html,'html.parser')\n"
   ]
  },
  {
   "cell_type": "code",
   "execution_count": 13,
   "id": "ae99849f",
   "metadata": {},
   "outputs": [
    {
     "data": {
      "text/plain": [
       "'Top Ten tags'"
      ]
     },
     "execution_count": 13,
     "metadata": {},
     "output_type": "execute_result"
    }
   ],
   "source": [
    "#Scrape the title\n",
    "title = html_soup.find('h2').text\n",
    "title"
   ]
  },
  {
   "cell_type": "code",
   "execution_count": 18,
   "id": "850fb802",
   "metadata": {},
   "outputs": [
    {
     "name": "stdout",
     "output_type": "stream",
     "text": [
      "love\n",
      "inspirational\n",
      "life\n",
      "humor\n",
      "books\n",
      "reading\n",
      "friendship\n",
      "friends\n",
      "truth\n",
      "simile\n"
     ]
    }
   ],
   "source": [
    "#Scrape the top ten tags\n",
    "tag_box = html_soup.find('div',class_='tags-box')\n",
    "\n",
    "#tag_box\n",
    "tags = tag_box.find_all('a', class_='tag')\n",
    "for tag in tags:\n",
    "    word = tag.text\n",
    "    print(word)\n",
    "\n",
    "\n",
    "    "
   ]
  },
  {
   "cell_type": "code",
   "execution_count": null,
   "id": "dc5b4d28",
   "metadata": {},
   "outputs": [],
   "source": [
    "#Scrape Across Pages\n",
    "url = 'http://quotes.toscrape.com/'\n",
    "browser.visit(url)"
   ]
  },
  {
   "cell_type": "code",
   "execution_count": 21,
   "id": "5ba1df59",
   "metadata": {},
   "outputs": [
    {
     "name": "stdout",
     "output_type": "stream",
     "text": [
      "page: 1 ----------\n",
      "“This life is what you make it. No matter what, you're going to mess up sometimes, it's a universal truth. But the good part is you get to decide how you're going to mess it up. Girls will be your friends - they'll act like it anyway. But just remember, some come, some go. The ones that stay with you through everything - they're your true best friends. Don't let go of them. Also remember, sisters make the best friends in the world. As for lovers, well, they'll come and go too. And baby, I hate to say it, most of them - actually pretty much all of them are going to break your heart, but you can't give up because if you give up, you'll never find your soulmate. You'll never find that half who makes you whole and that goes for everything. Just because you fail once, doesn't mean you're gonna fail at everything. Keep trying, hold on, and always, always, always believe in yourself, because if you don't, then who will, sweetie? So keep your head high, keep your chin up, and most importantly, keep smiling, because life's a beautiful thing and there's so much to smile about.”\n",
      "page: 1 ----------\n",
      "“It takes a great deal of bravery to stand up to our enemies, but just as much to stand up to our friends.”\n",
      "page: 1 ----------\n",
      "“If you can't explain it to a six year old, you don't understand it yourself.”\n",
      "page: 1 ----------\n",
      "“You may not be her first, her last, or her only. She loved before she may love again. But if she loves you now, what else matters? She's not perfect—you aren't either, and the two of you may never be perfect together but if she can make you laugh, cause you to think twice, and admit to being human and making mistakes, hold onto her and give her the most you can. She may not be thinking about you every second of the day, but she will give you a part of her that she knows you can break—her heart. So don't hurt her, don't change her, don't analyze and don't expect more than she can give. Smile when she makes you happy, let her know when she makes you mad, and miss her when she's not there.”\n",
      "page: 1 ----------\n",
      "“I like nonsense, it wakes up the brain cells. Fantasy is a necessary ingredient in living.”\n",
      "page: 1 ----------\n",
      "“I may not have gone where I intended to go, but I think I have ended up where I needed to be.”\n",
      "page: 1 ----------\n",
      "“The opposite of love is not hate, it's indifference. The opposite of art is not ugliness, it's indifference. The opposite of faith is not heresy, it's indifference. And the opposite of life is not death, it's indifference.”\n",
      "page: 1 ----------\n",
      "“It is not a lack of love, but a lack of friendship that makes unhappy marriages.”\n",
      "page: 1 ----------\n",
      "“Good friends, good books, and a sleepy conscience: this is the ideal life.”\n",
      "page: 1 ----------\n",
      "“Life is what happens to us while we are making other plans.”\n",
      "page: 2 ----------\n",
      "“I love you without knowing how, or when, or from where. I love you simply, without problems or pride: I love you in this way because I do not know any other way of loving but this, in which there is no I or you, so intimate that your hand upon my chest is my hand, so intimate that when I fall asleep your eyes close.”\n",
      "page: 2 ----------\n",
      "“For every minute you are angry you lose sixty seconds of happiness.”\n",
      "page: 2 ----------\n",
      "“If you judge people, you have no time to love them.”\n",
      "page: 2 ----------\n",
      "“Anyone who thinks sitting in church can make you a Christian must also think that sitting in a garage can make you a car.”\n",
      "page: 2 ----------\n",
      "“Beauty is in the eye of the beholder and it may be necessary from time to time to give a stupid or misinformed beholder a black eye.”\n",
      "page: 2 ----------\n",
      "“Today you are You, that is truer than true. There is no one alive who is Youer than You.”\n",
      "page: 2 ----------\n",
      "“If you want your children to be intelligent, read them fairy tales. If you want them to be more intelligent, read them more fairy tales.”\n",
      "page: 2 ----------\n",
      "“It is impossible to live without failing at something, unless you live so cautiously that you might as well not have lived at all - in which case, you fail by default.”\n",
      "page: 2 ----------\n",
      "“Logic will get you from A to Z; imagination will get you everywhere.”\n",
      "page: 2 ----------\n",
      "“One good thing about music, when it hits you, you feel no pain.”\n",
      "page: 3 ----------\n",
      "“The more that you read, the more things you will know. The more that you learn, the more places you'll go.”\n",
      "page: 3 ----------\n",
      "“Of course it is happening inside your head, Harry, but why on earth should that mean that it is not real?”\n",
      "page: 3 ----------\n",
      "“The truth is, everyone is going to hurt you. You just got to find the ones worth suffering for.”\n",
      "page: 3 ----------\n",
      "“Not all of us can do great things. But we can do small things with great love.”\n",
      "page: 3 ----------\n",
      "“To the well-organized mind, death is but the next great adventure.”\n",
      "page: 3 ----------\n",
      "“All you need is love. But a little chocolate now and then doesn't hurt.”\n",
      "page: 3 ----------\n",
      "“We read to know we're not alone.”\n",
      "page: 3 ----------\n",
      "“Any fool can know. The point is to understand.”\n",
      "page: 3 ----------\n",
      "“I have always imagined that Paradise will be a kind of library.”\n",
      "page: 3 ----------\n",
      "“It is never too late to be what you might have been.”\n",
      "page: 4 ----------\n",
      "“A reader lives a thousand lives before he dies, said Jojen. The man who never reads lives only one.”\n",
      "page: 4 ----------\n",
      "“You can never get a cup of tea large enough or a book long enough to suit me.”\n",
      "page: 4 ----------\n",
      "“You believe lies so you eventually learn to trust no one but yourself.”\n",
      "page: 4 ----------\n",
      "“If you can make a woman laugh, you can make her do anything.”\n",
      "page: 4 ----------\n",
      "“Life is like riding a bicycle. To keep your balance, you must keep moving.”\n",
      "page: 4 ----------\n",
      "“The real lover is the man who can thrill you by kissing your forehead or smiling into your eyes or just staring into space.”\n",
      "page: 4 ----------\n",
      "“A wise girl kisses but doesn't love, listens but doesn't believe, and leaves before she is left.”\n",
      "page: 4 ----------\n",
      "“Only in the darkness can you see the stars.”\n",
      "page: 4 ----------\n",
      "“It matters not what someone is born, but what they grow to be.”\n",
      "page: 4 ----------\n",
      "“Love does not begin and end the way we seem to think it does. Love is a battle, love is a war; love is a growing up.”\n",
      "page: 5 ----------\n",
      "“There is nothing I would not do for those who are really my friends. I have no notion of loving people by halves, it is not my nature.”\n",
      "page: 5 ----------\n",
      "“Do one thing every day that scares you.”\n",
      "page: 5 ----------\n",
      "“I am good, but not an angel. I do sin, but I am not the devil. I am just a small girl in a big world trying to find someone to love.”\n",
      "page: 5 ----------\n",
      "“If I were not a physicist, I would probably be a musician. I often think in music. I live my daydreams in music. I see my life in terms of music.”\n",
      "page: 5 ----------\n",
      "“If you only read the books that everyone else is reading, you can only think what everyone else is thinking.”\n",
      "page: 5 ----------\n",
      "“The difference between genius and stupidity is: genius has its limits.”\n",
      "page: 5 ----------\n",
      "“He's like a drug for you, Bella.”\n",
      "page: 5 ----------\n",
      "“There is no friend as loyal as a book.”\n",
      "page: 5 ----------\n",
      "“When one door of happiness closes, another opens; but often we look so long at the closed door that we do not see the one which has been opened for us.”\n",
      "page: 5 ----------\n",
      "“Life isn't about finding yourself. Life is about creating yourself.”\n"
     ]
    }
   ],
   "source": [
    "for x in range(1,6):\n",
    "    html = browser.html\n",
    "    quote_soup = soup(html,'html.parser')\n",
    "    quotes = quote_soup.find_all('span',class_='text')\n",
    "    for quote in quotes:\n",
    "        print('page:', x, '----------')\n",
    "        print(quote.text)\n",
    "    browser.links.find_by_partial_text('Next').click()\n",
    "    "
   ]
  },
  {
   "cell_type": "code",
   "execution_count": null,
   "id": "d5f95948",
   "metadata": {},
   "outputs": [],
   "source": [
    "#import sys\n",
    "sys.path.append('/Users/ruiminma/.pyenv/versions/3.6.1/lib/python3.6/site-packages')\n"
   ]
  },
  {
   "cell_type": "code",
   "execution_count": null,
   "id": "f2c38704",
   "metadata": {},
   "outputs": [],
   "source": [
    "#import Splinter and BeautifulSoup\n",
    "from Splinter import Browser\n",
    "from bs4 import BeautifulSoup as soup\n",
    "from webdriver_manager.chrome import ChromeDriverManager"
   ]
  },
  {
   "cell_type": "code",
   "execution_count": null,
   "id": "5cd88bdf",
   "metadata": {},
   "outputs": [],
   "source": [
    "#set up splinter\n",
    "executable_path = {'_path': ChromeDriverManager().install()}\n",
    "browser = Browser('chrome',** executable_path,headless=False)\n"
   ]
  },
  {
   "cell_type": "code",
   "execution_count": null,
   "id": "927f654e",
   "metadata": {},
   "outputs": [],
   "source": []
  }
 ],
 "metadata": {
  "kernelspec": {
   "display_name": "Python 3 (ipykernel)",
   "language": "python",
   "name": "python3"
  },
  "language_info": {
   "codemirror_mode": {
    "name": "ipython",
    "version": 3
   },
   "file_extension": ".py",
   "mimetype": "text/x-python",
   "name": "python",
   "nbconvert_exporter": "python",
   "pygments_lexer": "ipython3",
   "version": "3.9.7"
  }
 },
 "nbformat": 4,
 "nbformat_minor": 5
}
